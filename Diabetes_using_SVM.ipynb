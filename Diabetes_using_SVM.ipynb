{
  "cells": [
    {
      "cell_type": "markdown",
      "metadata": {
        "id": "DqVvzi1ZKBMb"
      },
      "source": [
        "# **Diabetes** **Prediction**"
      ]
    },
    {
      "cell_type": "markdown",
      "metadata": {
        "id": "_AKPGegGKa_P"
      },
      "source": [
        "In this Project I've collected the dataset from [Kaggle](https://www.kaggle.com/datasets/mathchi/diabetes-data-set) and I'll be using **Support Vector Machine** to predict whether a person is suffering from Diabetes or not."
      ]
    },
    {
      "cell_type": "markdown",
      "metadata": {
        "id": "a9Fur0bALYeg"
      },
      "source": [
        "# **Importing  Libraries**"
      ]
    },
    {
      "cell_type": "markdown",
      "metadata": {
        "id": "LJ7WnpdZJ2LX"
      },
      "source": [
        "Let's first import all the necessary Libraries required for the project :  \n",
        "\n",
        "**Numpy** :- It is a general-purpose array-processing package. It provides a high-performance multidimensional array object, and tools for working with these arrays. It is the fundamental package for scientific computing with Python.\n",
        "\n",
        "**Pandas** :- It is a Python package that offers various data structures and operations for manipulating numerical data and time series. It is mainly popular for importing and analyzing data much easier. Pandas is fast and it has high-performance & productivity for users.\n",
        "\n",
        "**Matplotlib** :- It is an amazing visualization library in Python for 2D plots of arrays. Matplotlib is a multi-platform data visualization library built on NumPy arrays.\n",
        "\n",
        "**Seaborn** :- It is an amazing visualization library for statistical graphics plotting in Python. It provides beautiful default styles and color palettes to make statistical plots more attractive. Seaborn aims to make visualization the central part of exploring and understanding data.\n",
        "\n",
        "**Sklearn** :- Sklearn (scikit-learn) is a Python library that provides a wide range of unsupervised and supervised machine learning algorithms. It is mainly used for modeling data and it provides efficient tools that are easy to use for any kind of predictive data analysis."
      ]
    },
    {
      "cell_type": "code",
      "execution_count": 3,
      "metadata": {
        "id": "Dah4z2N6V8Ab"
      },
      "outputs": [],
      "source": [
        "import numpy as np\n",
        "import pandas as pd\n",
        "import matplotlib.pyplot as plt\n",
        "import seaborn as sns\n",
        "from sklearn import svm\n",
        "from sklearn.model_selection import train_test_split\n",
        "from sklearn.metrics import accuracy_score\n",
        "from sklearn.preprocessing import StandardScaler"
      ]
    },
    {
      "cell_type": "markdown",
      "metadata": {
        "id": "vuuxbssrLfGs"
      },
      "source": [
        "# **Collection of Data**"
      ]
    },
    {
      "cell_type": "code",
      "execution_count": 4,
      "metadata": {
        "id": "Apa-ZtQuWmvc"
      },
      "outputs": [
        {
          "ename": "FileNotFoundError",
          "evalue": "[Errno 2] No such file or directory: '/content/drive/MyDrive/Machine Learning/Diabetes_check.csv'",
          "output_type": "error",
          "traceback": [
            "\u001b[1;31m---------------------------------------------------------------------------\u001b[0m",
            "\u001b[1;31mFileNotFoundError\u001b[0m                         Traceback (most recent call last)",
            "Cell \u001b[1;32mIn[4], line 1\u001b[0m\n\u001b[1;32m----> 1\u001b[0m dataset \u001b[39m=\u001b[39m pd\u001b[39m.\u001b[39;49mread_csv(\u001b[39m'\u001b[39;49m\u001b[39m/content/drive/MyDrive/Machine Learning/Diabetes_check.csv\u001b[39;49m\u001b[39m'\u001b[39;49m)\n",
            "File \u001b[1;32mc:\\Users\\haris\\OneDrive\\Desktop\\ML\\Diabetes-Prediction\\lib\\site-packages\\pandas\\io\\parsers\\readers.py:912\u001b[0m, in \u001b[0;36mread_csv\u001b[1;34m(filepath_or_buffer, sep, delimiter, header, names, index_col, usecols, dtype, engine, converters, true_values, false_values, skipinitialspace, skiprows, skipfooter, nrows, na_values, keep_default_na, na_filter, verbose, skip_blank_lines, parse_dates, infer_datetime_format, keep_date_col, date_parser, date_format, dayfirst, cache_dates, iterator, chunksize, compression, thousands, decimal, lineterminator, quotechar, quoting, doublequote, escapechar, comment, encoding, encoding_errors, dialect, on_bad_lines, delim_whitespace, low_memory, memory_map, float_precision, storage_options, dtype_backend)\u001b[0m\n\u001b[0;32m    899\u001b[0m kwds_defaults \u001b[39m=\u001b[39m _refine_defaults_read(\n\u001b[0;32m    900\u001b[0m     dialect,\n\u001b[0;32m    901\u001b[0m     delimiter,\n\u001b[1;32m   (...)\u001b[0m\n\u001b[0;32m    908\u001b[0m     dtype_backend\u001b[39m=\u001b[39mdtype_backend,\n\u001b[0;32m    909\u001b[0m )\n\u001b[0;32m    910\u001b[0m kwds\u001b[39m.\u001b[39mupdate(kwds_defaults)\n\u001b[1;32m--> 912\u001b[0m \u001b[39mreturn\u001b[39;00m _read(filepath_or_buffer, kwds)\n",
            "File \u001b[1;32mc:\\Users\\haris\\OneDrive\\Desktop\\ML\\Diabetes-Prediction\\lib\\site-packages\\pandas\\io\\parsers\\readers.py:577\u001b[0m, in \u001b[0;36m_read\u001b[1;34m(filepath_or_buffer, kwds)\u001b[0m\n\u001b[0;32m    574\u001b[0m _validate_names(kwds\u001b[39m.\u001b[39mget(\u001b[39m\"\u001b[39m\u001b[39mnames\u001b[39m\u001b[39m\"\u001b[39m, \u001b[39mNone\u001b[39;00m))\n\u001b[0;32m    576\u001b[0m \u001b[39m# Create the parser.\u001b[39;00m\n\u001b[1;32m--> 577\u001b[0m parser \u001b[39m=\u001b[39m TextFileReader(filepath_or_buffer, \u001b[39m*\u001b[39m\u001b[39m*\u001b[39mkwds)\n\u001b[0;32m    579\u001b[0m \u001b[39mif\u001b[39;00m chunksize \u001b[39mor\u001b[39;00m iterator:\n\u001b[0;32m    580\u001b[0m     \u001b[39mreturn\u001b[39;00m parser\n",
            "File \u001b[1;32mc:\\Users\\haris\\OneDrive\\Desktop\\ML\\Diabetes-Prediction\\lib\\site-packages\\pandas\\io\\parsers\\readers.py:1407\u001b[0m, in \u001b[0;36mTextFileReader.__init__\u001b[1;34m(self, f, engine, **kwds)\u001b[0m\n\u001b[0;32m   1404\u001b[0m     \u001b[39mself\u001b[39m\u001b[39m.\u001b[39moptions[\u001b[39m\"\u001b[39m\u001b[39mhas_index_names\u001b[39m\u001b[39m\"\u001b[39m] \u001b[39m=\u001b[39m kwds[\u001b[39m\"\u001b[39m\u001b[39mhas_index_names\u001b[39m\u001b[39m\"\u001b[39m]\n\u001b[0;32m   1406\u001b[0m \u001b[39mself\u001b[39m\u001b[39m.\u001b[39mhandles: IOHandles \u001b[39m|\u001b[39m \u001b[39mNone\u001b[39;00m \u001b[39m=\u001b[39m \u001b[39mNone\u001b[39;00m\n\u001b[1;32m-> 1407\u001b[0m \u001b[39mself\u001b[39m\u001b[39m.\u001b[39m_engine \u001b[39m=\u001b[39m \u001b[39mself\u001b[39;49m\u001b[39m.\u001b[39;49m_make_engine(f, \u001b[39mself\u001b[39;49m\u001b[39m.\u001b[39;49mengine)\n",
            "File \u001b[1;32mc:\\Users\\haris\\OneDrive\\Desktop\\ML\\Diabetes-Prediction\\lib\\site-packages\\pandas\\io\\parsers\\readers.py:1661\u001b[0m, in \u001b[0;36mTextFileReader._make_engine\u001b[1;34m(self, f, engine)\u001b[0m\n\u001b[0;32m   1659\u001b[0m     \u001b[39mif\u001b[39;00m \u001b[39m\"\u001b[39m\u001b[39mb\u001b[39m\u001b[39m\"\u001b[39m \u001b[39mnot\u001b[39;00m \u001b[39min\u001b[39;00m mode:\n\u001b[0;32m   1660\u001b[0m         mode \u001b[39m+\u001b[39m\u001b[39m=\u001b[39m \u001b[39m\"\u001b[39m\u001b[39mb\u001b[39m\u001b[39m\"\u001b[39m\n\u001b[1;32m-> 1661\u001b[0m \u001b[39mself\u001b[39m\u001b[39m.\u001b[39mhandles \u001b[39m=\u001b[39m get_handle(\n\u001b[0;32m   1662\u001b[0m     f,\n\u001b[0;32m   1663\u001b[0m     mode,\n\u001b[0;32m   1664\u001b[0m     encoding\u001b[39m=\u001b[39;49m\u001b[39mself\u001b[39;49m\u001b[39m.\u001b[39;49moptions\u001b[39m.\u001b[39;49mget(\u001b[39m\"\u001b[39;49m\u001b[39mencoding\u001b[39;49m\u001b[39m\"\u001b[39;49m, \u001b[39mNone\u001b[39;49;00m),\n\u001b[0;32m   1665\u001b[0m     compression\u001b[39m=\u001b[39;49m\u001b[39mself\u001b[39;49m\u001b[39m.\u001b[39;49moptions\u001b[39m.\u001b[39;49mget(\u001b[39m\"\u001b[39;49m\u001b[39mcompression\u001b[39;49m\u001b[39m\"\u001b[39;49m, \u001b[39mNone\u001b[39;49;00m),\n\u001b[0;32m   1666\u001b[0m     memory_map\u001b[39m=\u001b[39;49m\u001b[39mself\u001b[39;49m\u001b[39m.\u001b[39;49moptions\u001b[39m.\u001b[39;49mget(\u001b[39m\"\u001b[39;49m\u001b[39mmemory_map\u001b[39;49m\u001b[39m\"\u001b[39;49m, \u001b[39mFalse\u001b[39;49;00m),\n\u001b[0;32m   1667\u001b[0m     is_text\u001b[39m=\u001b[39;49mis_text,\n\u001b[0;32m   1668\u001b[0m     errors\u001b[39m=\u001b[39;49m\u001b[39mself\u001b[39;49m\u001b[39m.\u001b[39;49moptions\u001b[39m.\u001b[39;49mget(\u001b[39m\"\u001b[39;49m\u001b[39mencoding_errors\u001b[39;49m\u001b[39m\"\u001b[39;49m, \u001b[39m\"\u001b[39;49m\u001b[39mstrict\u001b[39;49m\u001b[39m\"\u001b[39;49m),\n\u001b[0;32m   1669\u001b[0m     storage_options\u001b[39m=\u001b[39;49m\u001b[39mself\u001b[39;49m\u001b[39m.\u001b[39;49moptions\u001b[39m.\u001b[39;49mget(\u001b[39m\"\u001b[39;49m\u001b[39mstorage_options\u001b[39;49m\u001b[39m\"\u001b[39;49m, \u001b[39mNone\u001b[39;49;00m),\n\u001b[0;32m   1670\u001b[0m )\n\u001b[0;32m   1671\u001b[0m \u001b[39massert\u001b[39;00m \u001b[39mself\u001b[39m\u001b[39m.\u001b[39mhandles \u001b[39mis\u001b[39;00m \u001b[39mnot\u001b[39;00m \u001b[39mNone\u001b[39;00m\n\u001b[0;32m   1672\u001b[0m f \u001b[39m=\u001b[39m \u001b[39mself\u001b[39m\u001b[39m.\u001b[39mhandles\u001b[39m.\u001b[39mhandle\n",
            "File \u001b[1;32mc:\\Users\\haris\\OneDrive\\Desktop\\ML\\Diabetes-Prediction\\lib\\site-packages\\pandas\\io\\common.py:859\u001b[0m, in \u001b[0;36mget_handle\u001b[1;34m(path_or_buf, mode, encoding, compression, memory_map, is_text, errors, storage_options)\u001b[0m\n\u001b[0;32m    854\u001b[0m \u001b[39melif\u001b[39;00m \u001b[39misinstance\u001b[39m(handle, \u001b[39mstr\u001b[39m):\n\u001b[0;32m    855\u001b[0m     \u001b[39m# Check whether the filename is to be opened in binary mode.\u001b[39;00m\n\u001b[0;32m    856\u001b[0m     \u001b[39m# Binary mode does not support 'encoding' and 'newline'.\u001b[39;00m\n\u001b[0;32m    857\u001b[0m     \u001b[39mif\u001b[39;00m ioargs\u001b[39m.\u001b[39mencoding \u001b[39mand\u001b[39;00m \u001b[39m\"\u001b[39m\u001b[39mb\u001b[39m\u001b[39m\"\u001b[39m \u001b[39mnot\u001b[39;00m \u001b[39min\u001b[39;00m ioargs\u001b[39m.\u001b[39mmode:\n\u001b[0;32m    858\u001b[0m         \u001b[39m# Encoding\u001b[39;00m\n\u001b[1;32m--> 859\u001b[0m         handle \u001b[39m=\u001b[39m \u001b[39mopen\u001b[39;49m(\n\u001b[0;32m    860\u001b[0m             handle,\n\u001b[0;32m    861\u001b[0m             ioargs\u001b[39m.\u001b[39;49mmode,\n\u001b[0;32m    862\u001b[0m             encoding\u001b[39m=\u001b[39;49mioargs\u001b[39m.\u001b[39;49mencoding,\n\u001b[0;32m    863\u001b[0m             errors\u001b[39m=\u001b[39;49merrors,\n\u001b[0;32m    864\u001b[0m             newline\u001b[39m=\u001b[39;49m\u001b[39m\"\u001b[39;49m\u001b[39m\"\u001b[39;49m,\n\u001b[0;32m    865\u001b[0m         )\n\u001b[0;32m    866\u001b[0m     \u001b[39melse\u001b[39;00m:\n\u001b[0;32m    867\u001b[0m         \u001b[39m# Binary mode\u001b[39;00m\n\u001b[0;32m    868\u001b[0m         handle \u001b[39m=\u001b[39m \u001b[39mopen\u001b[39m(handle, ioargs\u001b[39m.\u001b[39mmode)\n",
            "\u001b[1;31mFileNotFoundError\u001b[0m: [Errno 2] No such file or directory: '/content/drive/MyDrive/Machine Learning/Diabetes_check.csv'"
          ]
        }
      ],
      "source": [
        "dataset = pd.read_csv('diabetes.csv')"
      ]
    },
    {
      "cell_type": "code",
      "execution_count": null,
      "metadata": {
        "colab": {
          "base_uri": "https://localhost:8080/"
        },
        "id": "QWXKiDvtXUsM",
        "outputId": "651358fb-ee61-4b89-eb84-56d27b260cfc"
      },
      "outputs": [
        {
          "name": "stdout",
          "output_type": "stream",
          "text": [
            "     Pregnancies  Glucose  BloodPressure  SkinThickness  Insulin   BMI  \\\n",
            "0              6      148             72             35        0  33.6   \n",
            "1              1       85             66             29        0  26.6   \n",
            "2              8      183             64              0        0  23.3   \n",
            "3              1       89             66             23       94  28.1   \n",
            "4              0      137             40             35      168  43.1   \n",
            "..           ...      ...            ...            ...      ...   ...   \n",
            "763           10      101             76             48      180  32.9   \n",
            "764            2      122             70             27        0  36.8   \n",
            "765            5      121             72             23      112  26.2   \n",
            "766            1      126             60              0        0  30.1   \n",
            "767            1       93             70             31        0  30.4   \n",
            "\n",
            "     DiabetesPedigreeFunction  Age  Outcome  \n",
            "0                       0.627   50        1  \n",
            "1                       0.351   31        0  \n",
            "2                       0.672   32        1  \n",
            "3                       0.167   21        0  \n",
            "4                       2.288   33        1  \n",
            "..                        ...  ...      ...  \n",
            "763                     0.171   63        0  \n",
            "764                     0.340   27        0  \n",
            "765                     0.245   30        0  \n",
            "766                     0.349   47        1  \n",
            "767                     0.315   23        0  \n",
            "\n",
            "[768 rows x 9 columns]\n"
          ]
        }
      ],
      "source": [
        "print(dataset)"
      ]
    },
    {
      "cell_type": "markdown",
      "metadata": {
        "id": "hAgVXpNYO71w"
      },
      "source": [
        "# **Preprocessing the Data**"
      ]
    },
    {
      "cell_type": "code",
      "execution_count": null,
      "metadata": {
        "colab": {
          "base_uri": "https://localhost:8080/",
          "height": 423
        },
        "id": "jlLBvDLOXcY-",
        "outputId": "7e4eac8e-a41c-41af-9917-f725d2ec0cc2"
      },
      "outputs": [
        {
          "data": {
            "text/html": [
              "\n",
              "  <div id=\"df-e1aff565-8dbd-409f-b8ef-0f125c110407\">\n",
              "    <div class=\"colab-df-container\">\n",
              "      <div>\n",
              "<style scoped>\n",
              "    .dataframe tbody tr th:only-of-type {\n",
              "        vertical-align: middle;\n",
              "    }\n",
              "\n",
              "    .dataframe tbody tr th {\n",
              "        vertical-align: top;\n",
              "    }\n",
              "\n",
              "    .dataframe thead th {\n",
              "        text-align: right;\n",
              "    }\n",
              "</style>\n",
              "<table border=\"1\" class=\"dataframe\">\n",
              "  <thead>\n",
              "    <tr style=\"text-align: right;\">\n",
              "      <th></th>\n",
              "      <th>Pregnancies</th>\n",
              "      <th>Glucose</th>\n",
              "      <th>BloodPressure</th>\n",
              "      <th>SkinThickness</th>\n",
              "      <th>Insulin</th>\n",
              "      <th>BMI</th>\n",
              "      <th>DiabetesPedigreeFunction</th>\n",
              "      <th>Age</th>\n",
              "      <th>Outcome</th>\n",
              "    </tr>\n",
              "  </thead>\n",
              "  <tbody>\n",
              "    <tr>\n",
              "      <th>0</th>\n",
              "      <td>6</td>\n",
              "      <td>148</td>\n",
              "      <td>72</td>\n",
              "      <td>35</td>\n",
              "      <td>0</td>\n",
              "      <td>33.6</td>\n",
              "      <td>0.627</td>\n",
              "      <td>50</td>\n",
              "      <td>1</td>\n",
              "    </tr>\n",
              "    <tr>\n",
              "      <th>1</th>\n",
              "      <td>1</td>\n",
              "      <td>85</td>\n",
              "      <td>66</td>\n",
              "      <td>29</td>\n",
              "      <td>0</td>\n",
              "      <td>26.6</td>\n",
              "      <td>0.351</td>\n",
              "      <td>31</td>\n",
              "      <td>0</td>\n",
              "    </tr>\n",
              "    <tr>\n",
              "      <th>2</th>\n",
              "      <td>8</td>\n",
              "      <td>183</td>\n",
              "      <td>64</td>\n",
              "      <td>0</td>\n",
              "      <td>0</td>\n",
              "      <td>23.3</td>\n",
              "      <td>0.672</td>\n",
              "      <td>32</td>\n",
              "      <td>1</td>\n",
              "    </tr>\n",
              "    <tr>\n",
              "      <th>3</th>\n",
              "      <td>1</td>\n",
              "      <td>89</td>\n",
              "      <td>66</td>\n",
              "      <td>23</td>\n",
              "      <td>94</td>\n",
              "      <td>28.1</td>\n",
              "      <td>0.167</td>\n",
              "      <td>21</td>\n",
              "      <td>0</td>\n",
              "    </tr>\n",
              "    <tr>\n",
              "      <th>4</th>\n",
              "      <td>0</td>\n",
              "      <td>137</td>\n",
              "      <td>40</td>\n",
              "      <td>35</td>\n",
              "      <td>168</td>\n",
              "      <td>43.1</td>\n",
              "      <td>2.288</td>\n",
              "      <td>33</td>\n",
              "      <td>1</td>\n",
              "    </tr>\n",
              "    <tr>\n",
              "      <th>...</th>\n",
              "      <td>...</td>\n",
              "      <td>...</td>\n",
              "      <td>...</td>\n",
              "      <td>...</td>\n",
              "      <td>...</td>\n",
              "      <td>...</td>\n",
              "      <td>...</td>\n",
              "      <td>...</td>\n",
              "      <td>...</td>\n",
              "    </tr>\n",
              "    <tr>\n",
              "      <th>763</th>\n",
              "      <td>10</td>\n",
              "      <td>101</td>\n",
              "      <td>76</td>\n",
              "      <td>48</td>\n",
              "      <td>180</td>\n",
              "      <td>32.9</td>\n",
              "      <td>0.171</td>\n",
              "      <td>63</td>\n",
              "      <td>0</td>\n",
              "    </tr>\n",
              "    <tr>\n",
              "      <th>764</th>\n",
              "      <td>2</td>\n",
              "      <td>122</td>\n",
              "      <td>70</td>\n",
              "      <td>27</td>\n",
              "      <td>0</td>\n",
              "      <td>36.8</td>\n",
              "      <td>0.340</td>\n",
              "      <td>27</td>\n",
              "      <td>0</td>\n",
              "    </tr>\n",
              "    <tr>\n",
              "      <th>765</th>\n",
              "      <td>5</td>\n",
              "      <td>121</td>\n",
              "      <td>72</td>\n",
              "      <td>23</td>\n",
              "      <td>112</td>\n",
              "      <td>26.2</td>\n",
              "      <td>0.245</td>\n",
              "      <td>30</td>\n",
              "      <td>0</td>\n",
              "    </tr>\n",
              "    <tr>\n",
              "      <th>766</th>\n",
              "      <td>1</td>\n",
              "      <td>126</td>\n",
              "      <td>60</td>\n",
              "      <td>0</td>\n",
              "      <td>0</td>\n",
              "      <td>30.1</td>\n",
              "      <td>0.349</td>\n",
              "      <td>47</td>\n",
              "      <td>1</td>\n",
              "    </tr>\n",
              "    <tr>\n",
              "      <th>767</th>\n",
              "      <td>1</td>\n",
              "      <td>93</td>\n",
              "      <td>70</td>\n",
              "      <td>31</td>\n",
              "      <td>0</td>\n",
              "      <td>30.4</td>\n",
              "      <td>0.315</td>\n",
              "      <td>23</td>\n",
              "      <td>0</td>\n",
              "    </tr>\n",
              "  </tbody>\n",
              "</table>\n",
              "<p>768 rows × 9 columns</p>\n",
              "</div>\n",
              "      <button class=\"colab-df-convert\" onclick=\"convertToInteractive('df-e1aff565-8dbd-409f-b8ef-0f125c110407')\"\n",
              "              title=\"Convert this dataframe to an interactive table.\"\n",
              "              style=\"display:none;\">\n",
              "        \n",
              "  <svg xmlns=\"http://www.w3.org/2000/svg\" height=\"24px\"viewBox=\"0 0 24 24\"\n",
              "       width=\"24px\">\n",
              "    <path d=\"M0 0h24v24H0V0z\" fill=\"none\"/>\n",
              "    <path d=\"M18.56 5.44l.94 2.06.94-2.06 2.06-.94-2.06-.94-.94-2.06-.94 2.06-2.06.94zm-11 1L8.5 8.5l.94-2.06 2.06-.94-2.06-.94L8.5 2.5l-.94 2.06-2.06.94zm10 10l.94 2.06.94-2.06 2.06-.94-2.06-.94-.94-2.06-.94 2.06-2.06.94z\"/><path d=\"M17.41 7.96l-1.37-1.37c-.4-.4-.92-.59-1.43-.59-.52 0-1.04.2-1.43.59L10.3 9.45l-7.72 7.72c-.78.78-.78 2.05 0 2.83L4 21.41c.39.39.9.59 1.41.59.51 0 1.02-.2 1.41-.59l7.78-7.78 2.81-2.81c.8-.78.8-2.07 0-2.86zM5.41 20L4 18.59l7.72-7.72 1.47 1.35L5.41 20z\"/>\n",
              "  </svg>\n",
              "      </button>\n",
              "      \n",
              "  <style>\n",
              "    .colab-df-container {\n",
              "      display:flex;\n",
              "      flex-wrap:wrap;\n",
              "      gap: 12px;\n",
              "    }\n",
              "\n",
              "    .colab-df-convert {\n",
              "      background-color: #E8F0FE;\n",
              "      border: none;\n",
              "      border-radius: 50%;\n",
              "      cursor: pointer;\n",
              "      display: none;\n",
              "      fill: #1967D2;\n",
              "      height: 32px;\n",
              "      padding: 0 0 0 0;\n",
              "      width: 32px;\n",
              "    }\n",
              "\n",
              "    .colab-df-convert:hover {\n",
              "      background-color: #E2EBFA;\n",
              "      box-shadow: 0px 1px 2px rgba(60, 64, 67, 0.3), 0px 1px 3px 1px rgba(60, 64, 67, 0.15);\n",
              "      fill: #174EA6;\n",
              "    }\n",
              "\n",
              "    [theme=dark] .colab-df-convert {\n",
              "      background-color: #3B4455;\n",
              "      fill: #D2E3FC;\n",
              "    }\n",
              "\n",
              "    [theme=dark] .colab-df-convert:hover {\n",
              "      background-color: #434B5C;\n",
              "      box-shadow: 0px 1px 3px 1px rgba(0, 0, 0, 0.15);\n",
              "      filter: drop-shadow(0px 1px 2px rgba(0, 0, 0, 0.3));\n",
              "      fill: #FFFFFF;\n",
              "    }\n",
              "  </style>\n",
              "\n",
              "      <script>\n",
              "        const buttonEl =\n",
              "          document.querySelector('#df-e1aff565-8dbd-409f-b8ef-0f125c110407 button.colab-df-convert');\n",
              "        buttonEl.style.display =\n",
              "          google.colab.kernel.accessAllowed ? 'block' : 'none';\n",
              "\n",
              "        async function convertToInteractive(key) {\n",
              "          const element = document.querySelector('#df-e1aff565-8dbd-409f-b8ef-0f125c110407');\n",
              "          const dataTable =\n",
              "            await google.colab.kernel.invokeFunction('convertToInteractive',\n",
              "                                                     [key], {});\n",
              "          if (!dataTable) return;\n",
              "\n",
              "          const docLinkHtml = 'Like what you see? Visit the ' +\n",
              "            '<a target=\"_blank\" href=https://colab.research.google.com/notebooks/data_table.ipynb>data table notebook</a>'\n",
              "            + ' to learn more about interactive tables.';\n",
              "          element.innerHTML = '';\n",
              "          dataTable['output_type'] = 'display_data';\n",
              "          await google.colab.output.renderOutput(dataTable, element);\n",
              "          const docLink = document.createElement('div');\n",
              "          docLink.innerHTML = docLinkHtml;\n",
              "          element.appendChild(docLink);\n",
              "        }\n",
              "      </script>\n",
              "    </div>\n",
              "  </div>\n",
              "  "
            ],
            "text/plain": [
              "     Pregnancies  Glucose  BloodPressure  SkinThickness  Insulin   BMI  \\\n",
              "0              6      148             72             35        0  33.6   \n",
              "1              1       85             66             29        0  26.6   \n",
              "2              8      183             64              0        0  23.3   \n",
              "3              1       89             66             23       94  28.1   \n",
              "4              0      137             40             35      168  43.1   \n",
              "..           ...      ...            ...            ...      ...   ...   \n",
              "763           10      101             76             48      180  32.9   \n",
              "764            2      122             70             27        0  36.8   \n",
              "765            5      121             72             23      112  26.2   \n",
              "766            1      126             60              0        0  30.1   \n",
              "767            1       93             70             31        0  30.4   \n",
              "\n",
              "     DiabetesPedigreeFunction  Age  Outcome  \n",
              "0                       0.627   50        1  \n",
              "1                       0.351   31        0  \n",
              "2                       0.672   32        1  \n",
              "3                       0.167   21        0  \n",
              "4                       2.288   33        1  \n",
              "..                        ...  ...      ...  \n",
              "763                     0.171   63        0  \n",
              "764                     0.340   27        0  \n",
              "765                     0.245   30        0  \n",
              "766                     0.349   47        1  \n",
              "767                     0.315   23        0  \n",
              "\n",
              "[768 rows x 9 columns]"
            ]
          },
          "execution_count": 4,
          "metadata": {},
          "output_type": "execute_result"
        }
      ],
      "source": [
        "dataset"
      ]
    },
    {
      "cell_type": "markdown",
      "metadata": {
        "id": "ywsnI4RlPGHg"
      },
      "source": [
        "***Cleaning the data inorder to remove the unwanted data, missing values, rows, and columns, duplicate values, data type conversion, etc.***"
      ]
    },
    {
      "cell_type": "code",
      "execution_count": null,
      "metadata": {
        "id": "r3-J9pQIicUW"
      },
      "outputs": [],
      "source": [
        "x1=dataset['Age']\n",
        "x2=dataset['BMI']\n",
        "x3=dataset['BloodPressure']\n",
        "x4=dataset['DiabetesPedigreeFunction']\n",
        "x5=dataset['Glucose']\n",
        "x6=dataset['Insulin']\n",
        "x7=dataset['Pregnancies']\n",
        "x8=dataset['SkinThickness']\n",
        "yy=dataset['Outcome']"
      ]
    },
    {
      "cell_type": "markdown",
      "metadata": {
        "id": "gw-XL60qPt3n"
      },
      "source": [
        "***Visualize the data to understand how it is structured and understand the relationship between various variables and classes present.***"
      ]
    },
    {
      "cell_type": "code",
      "execution_count": null,
      "metadata": {
        "colab": {
          "base_uri": "https://localhost:8080/",
          "height": 995
        },
        "id": "Husk1aTnk8w7",
        "outputId": "59a15fc0-aa61-40a2-fb2e-00cda1b683e2"
      },
      "outputs": [
        {
          "data": {
            "image/png": "[encoded data removed]",
            "text/plain": [
              "<Figure size 2000x2000 with 8 Axes>"
            ]
          },
          "metadata": {},
          "output_type": "display_data"
        }
      ],
      "source": [
        "f=plt.figure()\n",
        "f.set_figwidth(20)\n",
        "f.set_figheight(20)\n",
        "plt.subplot(2,4,1)\n",
        "plt.plot(x1,yy,'*')\n",
        "plt.subplot(2,4,2)\n",
        "plt.plot(x2,yy,'*')\n",
        "plt.subplot(2,4,3)\n",
        "plt.plot(x3,yy,'*')\n",
        "plt.subplot(2,4,4)\n",
        "plt.plot(x4,yy,'*')\n",
        "plt.subplot(2,4,5)\n",
        "plt.plot(x5,yy,'*')\n",
        "plt.subplot(2,4,6)\n",
        "plt.plot(x6,yy,'*')\n",
        "plt.subplot(2,4,7)\n",
        "plt.plot(x7,yy,'*')\n",
        "plt.subplot(2,4,8)\n",
        "plt.plot(x8,yy,'*')\n",
        "plt.show()"
      ]
    },
    {
      "cell_type": "code",
      "execution_count": null,
      "metadata": {
        "colab": {
          "base_uri": "https://localhost:8080/"
        },
        "id": "oekHvsq0YFw1",
        "outputId": "e347dde0-42ba-4a03-81e1-777018986baa"
      },
      "outputs": [
        {
          "data": {
            "text/plain": [
              "(768, 9)"
            ]
          },
          "execution_count": 7,
          "metadata": {},
          "output_type": "execute_result"
        }
      ],
      "source": [
        "dataset.shape"
      ]
    },
    {
      "cell_type": "code",
      "execution_count": null,
      "metadata": {
        "id": "DTZInRQYYKk0"
      },
      "outputs": [],
      "source": [
        "X=dataset.drop(columns=['Outcome'],axis=1)"
      ]
    },
    {
      "cell_type": "code",
      "execution_count": null,
      "metadata": {
        "id": "pb_CbbUbYXZV"
      },
      "outputs": [],
      "source": [
        "Y=dataset['Outcome']"
      ]
    },
    {
      "cell_type": "markdown",
      "metadata": {
        "id": "D3ff2vmMPxKl"
      },
      "source": [
        "# **Choosing the Model**"
      ]
    },
    {
      "cell_type": "markdown",
      "metadata": {
        "id": "ECYS-T20P8Xn"
      },
      "source": [
        "**Support Vector Machine** : It is one of the most popular Supervised Learning algorithms, which is used for Classification as well as Regression problems.\n",
        "\n",
        "The goal of the SVM algorithm is to create the best line or decision boundary that can segregate n-dimensional space into classes so that we can easily put the new data point in the correct category in the future. This best decision boundary is called a hyperplane.\n",
        "\n",
        "SVM chooses the extreme points/vectors that help in creating the hyperplane. These extreme cases are called as support vectors, and hence algorithm is termed as Support Vector Machine."
      ]
    },
    {
      "cell_type": "markdown",
      "metadata": {
        "id": "kcUSjI2TRL2i"
      },
      "source": [
        "# **Training the Model**"
      ]
    },
    {
      "cell_type": "markdown",
      "metadata": {
        "id": "h9koR4F7Q35j"
      },
      "source": [
        "## ***Splitting the data into Training data and Test data***"
      ]
    },
    {
      "cell_type": "markdown",
      "metadata": {
        "id": "ZScMh3FaTeK7"
      },
      "source": [
        "***Dataset is splitted into 2 parts : Training data(90%) and Test data(10%).***"
      ]
    },
    {
      "cell_type": "code",
      "execution_count": null,
      "metadata": {
        "id": "ej51wkbVZCkd"
      },
      "outputs": [],
      "source": [
        "X_train,X_test,Y_train,Y_test = train_test_split(X,Y,train_size=0.1,random_state=2)"
      ]
    },
    {
      "cell_type": "code",
      "execution_count": null,
      "metadata": {
        "colab": {
          "base_uri": "https://localhost:8080/"
        },
        "id": "g2-R6qNaZgKp",
        "outputId": "c7c811e8-a9e9-4818-a18f-d4d8eeac8b2d"
      },
      "outputs": [
        {
          "name": "stdout",
          "output_type": "stream",
          "text": [
            "(768, 8) (768,) (76, 8) (692, 8) (76,) (692,)\n"
          ]
        }
      ],
      "source": [
        "print(X.shape,Y.shape,X_train.shape,X_test.shape,Y_train.shape,Y_test.shape)"
      ]
    },
    {
      "cell_type": "markdown",
      "metadata": {
        "id": "gS2lBh83a1zf"
      },
      "source": [
        "***Data Standardization***"
      ]
    },
    {
      "cell_type": "code",
      "execution_count": null,
      "metadata": {
        "id": "21sNCHSFaCUD"
      },
      "outputs": [],
      "source": [
        "scaler= StandardScaler()"
      ]
    },
    {
      "cell_type": "code",
      "execution_count": null,
      "metadata": {
        "colab": {
          "base_uri": "https://localhost:8080/",
          "height": 74
        },
        "id": "42APxhpPa8eV",
        "outputId": "e867aa28-f98c-4097-a266-68e9a4e598bf"
      },
      "outputs": [
        {
          "data": {
            "text/html": [
              "<style>#sk-container-id-1 {color: black;background-color: white;}#sk-container-id-1 pre{padding: 0;}#sk-container-id-1 div.sk-toggleable {background-color: white;}#sk-container-id-1 label.sk-toggleable__label {cursor: pointer;display: block;width: 100%;margin-bottom: 0;padding: 0.3em;box-sizing: border-box;text-align: center;}#sk-container-id-1 label.sk-toggleable__label-arrow:before {content: \"▸\";float: left;margin-right: 0.25em;color: #696969;}#sk-container-id-1 label.sk-toggleable__label-arrow:hover:before {color: black;}#sk-container-id-1 div.sk-estimator:hover label.sk-toggleable__label-arrow:before {color: black;}#sk-container-id-1 div.sk-toggleable__content {max-height: 0;max-width: 0;overflow: hidden;text-align: left;background-color: #f0f8ff;}#sk-container-id-1 div.sk-toggleable__content pre {margin: 0.2em;color: black;border-radius: 0.25em;background-color: #f0f8ff;}#sk-container-id-1 input.sk-toggleable__control:checked~div.sk-toggleable__content {max-height: 200px;max-width: 100%;overflow: auto;}#sk-container-id-1 input.sk-toggleable__control:checked~label.sk-toggleable__label-arrow:before {content: \"▾\";}#sk-container-id-1 div.sk-estimator input.sk-toggleable__control:checked~label.sk-toggleable__label {background-color: #d4ebff;}#sk-container-id-1 div.sk-label input.sk-toggleable__control:checked~label.sk-toggleable__label {background-color: #d4ebff;}#sk-container-id-1 input.sk-hidden--visually {border: 0;clip: rect(1px 1px 1px 1px);clip: rect(1px, 1px, 1px, 1px);height: 1px;margin: -1px;overflow: hidden;padding: 0;position: absolute;width: 1px;}#sk-container-id-1 div.sk-estimator {font-family: monospace;background-color: #f0f8ff;border: 1px dotted black;border-radius: 0.25em;box-sizing: border-box;margin-bottom: 0.5em;}#sk-container-id-1 div.sk-estimator:hover {background-color: #d4ebff;}#sk-container-id-1 div.sk-parallel-item::after {content: \"\";width: 100%;border-bottom: 1px solid gray;flex-grow: 1;}#sk-container-id-1 div.sk-label:hover label.sk-toggleable__label {background-color: #d4ebff;}#sk-container-id-1 div.sk-serial::before {content: \"\";position: absolute;border-left: 1px solid gray;box-sizing: border-box;top: 0;bottom: 0;left: 50%;z-index: 0;}#sk-container-id-1 div.sk-serial {display: flex;flex-direction: column;align-items: center;background-color: white;padding-right: 0.2em;padding-left: 0.2em;position: relative;}#sk-container-id-1 div.sk-item {position: relative;z-index: 1;}#sk-container-id-1 div.sk-parallel {display: flex;align-items: stretch;justify-content: center;background-color: white;position: relative;}#sk-container-id-1 div.sk-item::before, #sk-container-id-1 div.sk-parallel-item::before {content: \"\";position: absolute;border-left: 1px solid gray;box-sizing: border-box;top: 0;bottom: 0;left: 50%;z-index: -1;}#sk-container-id-1 div.sk-parallel-item {display: flex;flex-direction: column;z-index: 1;position: relative;background-color: white;}#sk-container-id-1 div.sk-parallel-item:first-child::after {align-self: flex-end;width: 50%;}#sk-container-id-1 div.sk-parallel-item:last-child::after {align-self: flex-start;width: 50%;}#sk-container-id-1 div.sk-parallel-item:only-child::after {width: 0;}#sk-container-id-1 div.sk-dashed-wrapped {border: 1px dashed gray;margin: 0 0.4em 0.5em 0.4em;box-sizing: border-box;padding-bottom: 0.4em;background-color: white;}#sk-container-id-1 div.sk-label label {font-family: monospace;font-weight: bold;display: inline-block;line-height: 1.2em;}#sk-container-id-1 div.sk-label-container {text-align: center;}#sk-container-id-1 div.sk-container {/* jupyter's `normalize.less` sets `[hidden] { display: none; }` but bootstrap.min.css set `[hidden] { display: none !important; }` so we also need the `!important` here to be able to override the default hidden behavior on the sphinx rendered scikit-learn.org. See: https://github.com/scikit-learn/scikit-learn/issues/21755 */display: inline-block !important;position: relative;}#sk-container-id-1 div.sk-text-repr-fallback {display: none;}</style><div id=\"sk-container-id-1\" class=\"sk-top-container\"><div class=\"sk-text-repr-fallback\"><pre>StandardScaler()</pre><b>In a Jupyter environment, please rerun this cell to show the HTML representation or trust the notebook. <br />On GitHub, the HTML representation is unable to render, please try loading this page with nbviewer.org.</b></div><div class=\"sk-container\" hidden><div class=\"sk-item\"><div class=\"sk-estimator sk-toggleable\"><input class=\"sk-toggleable__control sk-hidden--visually\" id=\"sk-estimator-id-1\" type=\"checkbox\" checked><label for=\"sk-estimator-id-1\" class=\"sk-toggleable__label sk-toggleable__label-arrow\">StandardScaler</label><div class=\"sk-toggleable__content\"><pre>StandardScaler()</pre></div></div></div></div></div>"
            ],
            "text/plain": [
              "StandardScaler()"
            ]
          },
          "execution_count": 13,
          "metadata": {},
          "output_type": "execute_result"
        }
      ],
      "source": [
        "scaler.fit(X_train)"
      ]
    },
    {
      "cell_type": "code",
      "execution_count": null,
      "metadata": {
        "id": "Fl_ACc5aa_9m"
      },
      "outputs": [],
      "source": [
        "X_train=scaler.transform(X_train)"
      ]
    },
    {
      "cell_type": "code",
      "execution_count": null,
      "metadata": {
        "id": "4Bn0REcdbGXG"
      },
      "outputs": [],
      "source": [
        "X_test=scaler.transform(X_test)"
      ]
    },
    {
      "cell_type": "code",
      "execution_count": null,
      "metadata": {
        "colab": {
          "base_uri": "https://localhost:8080/"
        },
        "id": "IDrgaifrbK5U",
        "outputId": "e1759384-389a-4cc7-bd4a-519fe49826fd"
      },
      "outputs": [
        {
          "name": "stdout",
          "output_type": "stream",
          "text": [
            "[[-0.77189248 -0.31333104 -0.11661903  0.6416767   0.09954065  0.72270172\n",
            "   0.32555677 -0.0838169 ]\n",
            " [-0.48147749  1.31279905  1.19104349  1.09744707  0.30217698  2.39221591\n",
            "   0.73311002 -0.78190837]\n",
            " [ 2.71308743 -0.56138479  0.02867681  2.20431796 -0.71100466  1.05997731\n",
            "  -0.89710299  1.05058174]\n",
            " [-1.06230747 -0.53382326 -0.8430982   0.31612644 -0.71100466 -0.66012822\n",
            "  -1.05385424 -0.86916981]\n",
            " [-0.1910625  -0.75431548  0.60986015 -0.5954143  -0.17064112 -1.85745658\n",
            "  -0.52786671 -0.25833977]\n",
            " [ 1.84184245 -0.12040035  0.46456431  0.70678676 -0.71100466 -0.45776286\n",
            "   0.26633963  1.05058174]\n",
            " [-1.06230747  0.07253033  0.60986015 -1.31162488 -0.71100466  0.14933321\n",
            "   0.9316616  -0.3456012 ]\n",
            " [-0.1910625   1.36792211  1.04574765  0.44634654  0.60613147  0.50347258\n",
            "   2.50265747  1.66141177]\n",
            " [ 0.97059748  1.89159112 -0.11661903  0.83700686  0.51325649 -0.87935736\n",
            "  -0.94935341  1.92319607]\n",
            " [-1.06230747  0.01740728  0.60986015  1.09744707  1.06206321  1.00938597\n",
            "   1.28348108 -0.86916981]\n",
            " [ 0.97059748 -0.0652773  -0.11661903  0.83700686  1.10427911 -0.81190224\n",
            "  -0.95632013  0.35249027]\n",
            " [-0.48147749 -0.94724617 -0.69780236  0.5114566  -0.71100466  0.21678833\n",
            "  -1.06430433 -0.78190837]\n",
            " [-1.06230747 -0.69919242 -0.47985861  0.5114566  -0.71100466 -0.96367625\n",
            "  -0.69158469 -0.95643124]\n",
            " [-0.77189248 -0.72675395  0.02867681 -0.53030424 -0.11998204 -0.8456298\n",
            "   0.77491035 -0.43286264]\n",
            " [ 0.0993525  -0.34089257 -0.55250653 -1.31162488 -0.71100466 -0.23853373\n",
            "  -1.07823777 -0.78190837]\n",
            " [ 0.68018248 -0.0652773   0.02867681 -1.31162488 -0.71100466 -0.45776286\n",
            "  -0.23526438 -0.3456012 ]\n",
            " [-1.06230747 -0.75431548 -5.20197325 -1.31162488 -0.71100466 -0.89622114\n",
            "  -0.63585091 -0.95643124]\n",
            " [-0.77189248 -0.91968464 -1.13368987 -0.5954143  -0.71100466 -1.31781563\n",
            "  -0.06457968 -0.95643124]\n",
            " [ 0.97059748  1.6710989  -1.56957737  0.83700686  2.59872204  0.60465526\n",
            "   1.36011502  0.09070596]\n",
            " [ 0.68018248  0.29302255 -0.77045028 -1.31162488 -0.71100466 -1.03113137\n",
            "  -0.99115374  1.92319607]\n",
            " [-0.77189248  0.12765339 -0.55250653 -0.40008414  2.79291519 -1.11545027\n",
            "  -0.16211379 -1.04369268]\n",
            " [-0.1910625   1.28523752  0.46456431  1.22766718  0.8509837   0.58779148\n",
            "   1.86171903 -0.17107834]\n",
            " [-0.48147749 -0.50626173 -0.69780236  0.77189681 -0.23818656 -0.86249358\n",
            "  -1.07127105 -1.04369268]\n",
            " [-1.06230747  1.47816821  1.33633932  0.38123649  0.04888157  1.04311353\n",
            "  -0.42336588  0.1779674 ]\n",
            " [ 0.38976749 -0.14796188  0.02867681  0.18590633  0.23463154 -0.69385578\n",
            "  -0.6637178  -0.25833977]\n",
            " [-0.77189248 -1.00236922 -0.26191486 -0.79074445 -0.71100466 -0.98054003\n",
            "   2.4469237   0.26522883]\n",
            " [ 2.13225745  0.26546102  0.90045182  0.96722697  0.38660878 -0.3397164\n",
            "  -0.61146738  0.78879743]\n",
            " [-1.06230747  1.9742757  -0.4072107   0.77189681  1.60242676  1.85257496\n",
            "   0.23150601 -0.43286264]\n",
            " [ 0.38976749  0.98206073  2.35341017 -1.31162488 -0.71100466  1.24547889\n",
            "  -0.99115374  1.66141177]\n",
            " [ 0.68018248  1.86402959  0.46456431 -1.31162488 -0.71100466 -1.14917783\n",
            "  -1.06778769  2.27224181]\n",
            " [-0.1910625   1.20255294 -0.55250653  1.09744707  1.18871092  0.70583794\n",
            "  -0.27706471 -0.25833977]\n",
            " [-0.77189248 -0.64406937  0.60986015 -0.5954143  -0.01866387 -1.8405928\n",
            "   0.19318904 -0.95643124]\n",
            " [ 1.55142746  1.03718378  0.90045182  0.05568623 -0.71100466  0.08187809\n",
            "   1.37753183 -0.0838169 ]\n",
            " [-1.06230747 -0.97480769  0.60986015 -1.31162488 -0.71100466  0.35169856\n",
            "   0.57635877 -0.52012407]\n",
            " [-0.1910625   0.15521492  0.60986015 -1.31162488 -0.71100466  0.68897416\n",
            "  -0.1168301   0.9633203 ]\n",
            " [-0.77189248 -1.22286144 -0.55250653 -0.46519419  0.09109747 -1.53704476\n",
            "  -0.0715464  -0.86916981]\n",
            " [-0.1910625   0.87181462  0.31926848  1.03233702  1.35757453  0.21678833\n",
            "   1.44719905 -0.43286264]\n",
            " [ 0.68018248 -0.42357715 -0.55250653  1.22766718 -0.71100466  0.6552466\n",
            "  -0.61146738 -0.78190837]\n",
            " [-1.06230747  0.56863782  0.97309974  2.20431796 -0.71100466  2.10553165\n",
            "  -0.21088085 -0.78190837]\n",
            " [ 0.0993525   0.29302255  0.90045182 -1.31162488 -0.71100466  0.14933321\n",
            "  -0.63933427 -0.25833977]\n",
            " [-0.48147749 -0.72675395 -1.2789857   0.5114566   0.17552928  1.26234267\n",
            "   0.21757257 -0.78190837]\n",
            " [ 0.38976749 -1.36066907  0.75515598  1.35788728 -0.35639109  0.92506707\n",
            "  -0.97373694  0.1779674 ]\n",
            " [ 1.55142746  1.03718378  0.46456431 -1.31162488 -0.71100466  0.41915368\n",
            "  -1.00160383  1.05058174]\n",
            " [ 3.29391742  0.26546102 -0.11661903  0.77189681  0.21774518  1.14429621\n",
            "  -0.98418702  0.87605887]\n",
            " [-0.77189248  0.84425309  0.02867681  0.05568623  0.70744964 -0.79503846\n",
            "  -1.08868786 -0.78190837]\n",
            " [ 2.71308743  0.70644546  1.33633932  0.83700686 -0.46615243 -0.5926731\n",
            "   1.02919571  0.87605887]\n",
            " [-0.77189248 -0.3684541  -0.55250653  0.96722697 -0.71100466  0.55406392\n",
            "   0.37432382 -1.04369268]\n",
            " [-0.1910625  -1.33310754 -0.11661903 -1.31162488 -0.71100466  0.36856234\n",
            "  -0.57663377  0.52701313]\n",
            " [ 1.26101247  1.64353738  1.33633932  0.96722697  1.18871092  0.70583794\n",
            "  -0.04367952  0.35249027]\n",
            " [-0.77189248 -0.28576952 -0.11661903  0.5114566  -0.71100466 -0.49149042\n",
            "  -0.8065356  -1.04369268]\n",
            " [-0.77189248  1.91915265  0.31926848  1.03233702  1.39134725  1.04311353\n",
            "   1.53079972 -0.3456012 ]\n",
            " [-0.77189248 -0.69919242 -1.56957737 -0.33497409 -0.40705017 -1.03113137\n",
            "   0.31510668 -0.60738551]\n",
            " [-1.06230747 -0.03771577  1.77222683 -1.31162488 -0.71100466 -1.31781563\n",
            "  -0.60450066 -1.04369268]\n",
            " [ 0.38976749  0.87181462  0.90045182  1.35788728  1.06206321  1.53216314\n",
            "  -0.14121363 -0.3456012 ]\n",
            " [-0.48147749 -0.69919242 -0.98839403 -0.20475398  1.52643813 -1.03113137\n",
            "   0.62164246 -0.86916981]\n",
            " [ 0.38976749  0.04496881  0.60986015 -1.31162488 -0.71100466  0.72270172\n",
            "  -1.01553727  1.05058174]\n",
            " [-1.06230747 -0.3684541   0.31926848 -1.31162488 -0.71100466  0.50347258\n",
            "  -0.54876688 -0.86916981]\n",
            " [ 0.38976749  1.14742989 -0.55250653 -1.31162488 -0.71100466  0.43601746\n",
            "  -1.04688752  0.701536  ]\n",
            " [-0.1910625   0.10009186  0.46456431  0.18590633 -0.04399341 -0.32285262\n",
            "  -0.39201563  0.09070596]\n",
            " [-0.77189248 -0.20308494  1.04574765  1.22766718  1.14649502  2.57771749\n",
            "   1.29741452 -0.3456012 ]\n",
            " [-0.48147749 -1.52603823 -0.11661903  0.44634654 -0.71100466 -0.39030774\n",
            "   0.52410835 -0.95643124]\n",
            " [ 0.0993525  -0.39601563  0.46456431  1.29277723 -0.71100466  1.53216314\n",
            "  -0.69506805  0.4397517 ]\n",
            " [ 0.68018248 -0.64406937 -0.4072107  -1.31162488 -0.71100466 -1.01426759\n",
            "  -0.64978435 -0.3456012 ]\n",
            " [-0.77189248 -0.94724617 -0.69780236  0.31612644 -0.36483427 -1.82372902\n",
            "   0.16183879 -0.69464694]\n",
            " [-0.48147749  0.3481456   0.24662056 -1.31162488 -0.71100466 -0.79503846\n",
            "  -0.93541997 -0.3456012 ]\n",
            " [ 1.26101247 -0.97480769  0.75515598 -1.31162488 -0.71100466  0.89133951\n",
            "   0.52759171  3.05759471]\n",
            " [-0.1910625   0.43083019  0.60986015 -0.33497409 -0.71100466  0.35169856\n",
            "  -0.82046905  2.62128754]\n",
            " [ 0.38976749  1.72622196 -0.55250653  0.83700686  2.03302895  0.14933321\n",
            "   0.51365827 -0.3456012 ]\n",
            " [-0.77189248 -3.48290665 -1.71487321 -0.00942382 -0.71100466 -0.94681247\n",
            "  -1.02947072 -0.95643124]\n",
            " [-1.06230747 -1.44335365 -1.42428154 -0.66052435 -0.40705017 -0.4240353\n",
            "  -0.58011713 -0.95643124]\n",
            " [ 1.26101247 -0.39601563  0.02867681 -1.31162488 -0.71100466 -1.13231405\n",
            "   1.40888208  2.18498038]\n",
            " [-0.77189248 -1.36066907 -1.13368987  0.6416767  -0.23818656  0.50347258\n",
            "   2.84054351 -0.78190837]\n",
            " [ 1.26101247 -0.0652773   0.31926848  0.25101639  4.35490355 -0.27226129\n",
            "   0.87592782  1.66141177]\n",
            " [ 0.0993525  -0.03771577 -0.11661903 -0.13964393  0.31906334 -0.23853373\n",
            "   2.46782386  1.05058174]\n",
            " [-0.1910625  -0.28576952  0.17397264 -0.33497409  0.17552928 -0.676992\n",
            "  -1.14442163 -0.78190837]\n",
            " [ 0.0993525  -0.45113868 -0.4072107  -1.31162488 -0.71100466  0.26737967\n",
            "   0.12352182 -0.3456012 ]]\n"
          ]
        }
      ],
      "source": [
        "print(X_train)"
      ]
    },
    {
      "cell_type": "code",
      "execution_count": null,
      "metadata": {
        "colab": {
          "base_uri": "https://localhost:8080/"
        },
        "id": "XvVPHhTqbdM9",
        "outputId": "aa141cf7-e5d4-4614-f496-d004ce7cb65a"
      },
      "outputs": [
        {
          "name": "stdout",
          "output_type": "stream",
          "text": [
            "[[-0.48147749 -1.05749227  0.17397264 ... -0.22166995 -0.71945158\n",
            "  -0.95643124]\n",
            " [-0.48147749  0.07253033  0.90045182 ... -0.39030774 -0.52786671\n",
            "  -0.52012407]\n",
            " [-1.06230747 -0.6716309   0.46456431 ...  0.70583794 -0.68810133\n",
            "  -0.78190837]\n",
            " ...\n",
            " [-0.77189248 -0.20308494 -1.2789857  ... -1.35154319 -0.80305224\n",
            "  -0.78190837]\n",
            " [ 1.55142746  1.20255294  0.17397264 ...  2.30789701 -0.11334674\n",
            "   0.87605887]\n",
            " [ 0.97059748  1.6710989  -0.26191486 ...  1.24547889 -0.63236755\n",
            "   0.701536  ]]\n"
          ]
        }
      ],
      "source": [
        "print(X_test)"
      ]
    },
    {
      "cell_type": "markdown",
      "metadata": {
        "id": "Bt27jZi_SQmr"
      },
      "source": [
        "# **Model Evaluation**"
      ]
    },
    {
      "cell_type": "code",
      "execution_count": null,
      "metadata": {
        "id": "i0Jd9Wznbkbn"
      },
      "outputs": [],
      "source": [
        "model=svm.SVC(kernel='linear')"
      ]
    },
    {
      "cell_type": "code",
      "execution_count": null,
      "metadata": {
        "colab": {
          "base_uri": "https://localhost:8080/",
          "height": 74
        },
        "id": "G1bHG2mub27i",
        "outputId": "15a1130a-f48a-43fe-8745-b1b56d250302"
      },
      "outputs": [
        {
          "data": {
            "text/html": [
              "<style>#sk-container-id-2 {color: black;background-color: white;}#sk-container-id-2 pre{padding: 0;}#sk-container-id-2 div.sk-toggleable {background-color: white;}#sk-container-id-2 label.sk-toggleable__label {cursor: pointer;display: block;width: 100%;margin-bottom: 0;padding: 0.3em;box-sizing: border-box;text-align: center;}#sk-container-id-2 label.sk-toggleable__label-arrow:before {content: \"▸\";float: left;margin-right: 0.25em;color: #696969;}#sk-container-id-2 label.sk-toggleable__label-arrow:hover:before {color: black;}#sk-container-id-2 div.sk-estimator:hover label.sk-toggleable__label-arrow:before {color: black;}#sk-container-id-2 div.sk-toggleable__content {max-height: 0;max-width: 0;overflow: hidden;text-align: left;background-color: #f0f8ff;}#sk-container-id-2 div.sk-toggleable__content pre {margin: 0.2em;color: black;border-radius: 0.25em;background-color: #f0f8ff;}#sk-container-id-2 input.sk-toggleable__control:checked~div.sk-toggleable__content {max-height: 200px;max-width: 100%;overflow: auto;}#sk-container-id-2 input.sk-toggleable__control:checked~label.sk-toggleable__label-arrow:before {content: \"▾\";}#sk-container-id-2 div.sk-estimator input.sk-toggleable__control:checked~label.sk-toggleable__label {background-color: #d4ebff;}#sk-container-id-2 div.sk-label input.sk-toggleable__control:checked~label.sk-toggleable__label {background-color: #d4ebff;}#sk-container-id-2 input.sk-hidden--visually {border: 0;clip: rect(1px 1px 1px 1px);clip: rect(1px, 1px, 1px, 1px);height: 1px;margin: -1px;overflow: hidden;padding: 0;position: absolute;width: 1px;}#sk-container-id-2 div.sk-estimator {font-family: monospace;background-color: #f0f8ff;border: 1px dotted black;border-radius: 0.25em;box-sizing: border-box;margin-bottom: 0.5em;}#sk-container-id-2 div.sk-estimator:hover {background-color: #d4ebff;}#sk-container-id-2 div.sk-parallel-item::after {content: \"\";width: 100%;border-bottom: 1px solid gray;flex-grow: 1;}#sk-container-id-2 div.sk-label:hover label.sk-toggleable__label {background-color: #d4ebff;}#sk-container-id-2 div.sk-serial::before {content: \"\";position: absolute;border-left: 1px solid gray;box-sizing: border-box;top: 0;bottom: 0;left: 50%;z-index: 0;}#sk-container-id-2 div.sk-serial {display: flex;flex-direction: column;align-items: center;background-color: white;padding-right: 0.2em;padding-left: 0.2em;position: relative;}#sk-container-id-2 div.sk-item {position: relative;z-index: 1;}#sk-container-id-2 div.sk-parallel {display: flex;align-items: stretch;justify-content: center;background-color: white;position: relative;}#sk-container-id-2 div.sk-item::before, #sk-container-id-2 div.sk-parallel-item::before {content: \"\";position: absolute;border-left: 1px solid gray;box-sizing: border-box;top: 0;bottom: 0;left: 50%;z-index: -1;}#sk-container-id-2 div.sk-parallel-item {display: flex;flex-direction: column;z-index: 1;position: relative;background-color: white;}#sk-container-id-2 div.sk-parallel-item:first-child::after {align-self: flex-end;width: 50%;}#sk-container-id-2 div.sk-parallel-item:last-child::after {align-self: flex-start;width: 50%;}#sk-container-id-2 div.sk-parallel-item:only-child::after {width: 0;}#sk-container-id-2 div.sk-dashed-wrapped {border: 1px dashed gray;margin: 0 0.4em 0.5em 0.4em;box-sizing: border-box;padding-bottom: 0.4em;background-color: white;}#sk-container-id-2 div.sk-label label {font-family: monospace;font-weight: bold;display: inline-block;line-height: 1.2em;}#sk-container-id-2 div.sk-label-container {text-align: center;}#sk-container-id-2 div.sk-container {/* jupyter's `normalize.less` sets `[hidden] { display: none; }` but bootstrap.min.css set `[hidden] { display: none !important; }` so we also need the `!important` here to be able to override the default hidden behavior on the sphinx rendered scikit-learn.org. See: https://github.com/scikit-learn/scikit-learn/issues/21755 */display: inline-block !important;position: relative;}#sk-container-id-2 div.sk-text-repr-fallback {display: none;}</style><div id=\"sk-container-id-2\" class=\"sk-top-container\"><div class=\"sk-text-repr-fallback\"><pre>SVC(kernel=&#x27;linear&#x27;)</pre><b>In a Jupyter environment, please rerun this cell to show the HTML representation or trust the notebook. <br />On GitHub, the HTML representation is unable to render, please try loading this page with nbviewer.org.</b></div><div class=\"sk-container\" hidden><div class=\"sk-item\"><div class=\"sk-estimator sk-toggleable\"><input class=\"sk-toggleable__control sk-hidden--visually\" id=\"sk-estimator-id-2\" type=\"checkbox\" checked><label for=\"sk-estimator-id-2\" class=\"sk-toggleable__label sk-toggleable__label-arrow\">SVC</label><div class=\"sk-toggleable__content\"><pre>SVC(kernel=&#x27;linear&#x27;)</pre></div></div></div></div></div>"
            ],
            "text/plain": [
              "SVC(kernel='linear')"
            ]
          },
          "execution_count": 19,
          "metadata": {},
          "output_type": "execute_result"
        }
      ],
      "source": [
        "model.fit(X_train,Y_train)"
      ]
    },
    {
      "cell_type": "markdown",
      "metadata": {
        "id": "m1aNqxZ8SFuD"
      },
      "source": [
        "# **Accuracy Predictor**"
      ]
    },
    {
      "cell_type": "markdown",
      "metadata": {
        "id": "rfvbkGKOdIM5"
      },
      "source": [
        "## ***Training data accuracy prediction***"
      ]
    },
    {
      "cell_type": "code",
      "execution_count": null,
      "metadata": {
        "id": "BxR5_IG5cMWd"
      },
      "outputs": [],
      "source": [
        "X_train_prediction=model.predict(X_train)"
      ]
    },
    {
      "cell_type": "code",
      "execution_count": null,
      "metadata": {
        "id": "ym3a1q4Eco8g"
      },
      "outputs": [],
      "source": [
        "train_accuracy_prediction=accuracy_score(Y_train,X_train_prediction)"
      ]
    },
    {
      "cell_type": "code",
      "execution_count": null,
      "metadata": {
        "colab": {
          "base_uri": "https://localhost:8080/"
        },
        "id": "f8LdKprNc1ob",
        "outputId": "a73e4919-98cf-42e9-e740-01aadf10d201"
      },
      "outputs": [
        {
          "name": "stdout",
          "output_type": "stream",
          "text": [
            "Accuracy of Training data is :  0.881578947368421\n"
          ]
        }
      ],
      "source": [
        "print('Accuracy of Training data is : ',train_accuracy_prediction)"
      ]
    },
    {
      "cell_type": "markdown",
      "metadata": {
        "id": "qSZzLfehdNPE"
      },
      "source": [
        "## ***Test data accuracy prediction***"
      ]
    },
    {
      "cell_type": "code",
      "execution_count": null,
      "metadata": {
        "id": "BUZgtSCmc37a"
      },
      "outputs": [],
      "source": [
        "X_test_prediction = model.predict(X_test)"
      ]
    },
    {
      "cell_type": "code",
      "execution_count": null,
      "metadata": {
        "id": "ihXmxHbLdVox"
      },
      "outputs": [],
      "source": [
        "test_accuracy_prediction=accuracy_score(Y_test,X_test_prediction)"
      ]
    },
    {
      "cell_type": "code",
      "execution_count": null,
      "metadata": {
        "colab": {
          "base_uri": "https://localhost:8080/"
        },
        "id": "VVMDqeVfddCU",
        "outputId": "781c4127-6ba9-4c75-e0a6-5f6726b9e72a"
      },
      "outputs": [
        {
          "name": "stdout",
          "output_type": "stream",
          "text": [
            "Accuracy score of Test data is :  0.7673410404624278\n"
          ]
        }
      ],
      "source": [
        "print('Accuracy score of Test data is : ',test_accuracy_prediction)"
      ]
    },
    {
      "cell_type": "markdown",
      "metadata": {
        "id": "brf6vMEGRpvo"
      },
      "source": [
        "# **Building a Predictive System**"
      ]
    },
    {
      "cell_type": "code",
      "execution_count": null,
      "metadata": {
        "id": "8fJNmvCidpqq"
      },
      "outputs": [],
      "source": [
        "input_data=(1,85,66,29,0,26.6,0.351,31)"
      ]
    },
    {
      "cell_type": "code",
      "execution_count": null,
      "metadata": {
        "id": "zJaxZBd7fdrN"
      },
      "outputs": [],
      "source": [
        "input_data_array=np.asarray(input_data)"
      ]
    },
    {
      "cell_type": "code",
      "execution_count": null,
      "metadata": {
        "colab": {
          "base_uri": "https://localhost:8080/"
        },
        "id": "pYl0wjx9fj0d",
        "outputId": "22304eb3-5932-4ad0-854b-d64762a29b69"
      },
      "outputs": [
        {
          "name": "stdout",
          "output_type": "stream",
          "text": [
            "[ 1.    85.    66.    29.     0.    26.6    0.351 31.   ]\n"
          ]
        }
      ],
      "source": [
        "print(input_data_array)"
      ]
    },
    {
      "cell_type": "code",
      "execution_count": null,
      "metadata": {
        "id": "V4M4-U69fqIC"
      },
      "outputs": [],
      "source": [
        "input_data_reshaped=input_data_array.reshape(1,-1)"
      ]
    },
    {
      "cell_type": "code",
      "execution_count": null,
      "metadata": {
        "colab": {
          "base_uri": "https://localhost:8080/"
        },
        "id": "Eep71Cnef5p-",
        "outputId": "541dea50-ce64-49bc-9e3d-a09e93842e82"
      },
      "outputs": [
        {
          "name": "stdout",
          "output_type": "stream",
          "text": [
            "[[ 1.    85.    66.    29.     0.    26.6    0.351 31.   ]]\n"
          ]
        }
      ],
      "source": [
        "print(input_data_reshaped)"
      ]
    },
    {
      "cell_type": "code",
      "execution_count": null,
      "metadata": {
        "colab": {
          "base_uri": "https://localhost:8080/"
        },
        "id": "9Bqsv7XwgWlY",
        "outputId": "0f49d12f-9b10-4e1a-ea36-c0b310437374"
      },
      "outputs": [
        {
          "name": "stderr",
          "output_type": "stream",
          "text": [
            "/usr/local/lib/python3.9/dist-packages/sklearn/base.py:439: UserWarning: X does not have valid feature names, but StandardScaler was fitted with feature names\n",
            "  warnings.warn(\n"
          ]
        }
      ],
      "source": [
        "prediction_output=scaler.transform(input_data_reshaped)"
      ]
    },
    {
      "cell_type": "code",
      "execution_count": null,
      "metadata": {
        "id": "vyTbSD5IgmM3"
      },
      "outputs": [],
      "source": [
        "predictor=model.predict(prediction_output)"
      ]
    },
    {
      "cell_type": "code",
      "execution_count": null,
      "metadata": {
        "colab": {
          "base_uri": "https://localhost:8080/"
        },
        "id": "gYgJJQ9vgueQ",
        "outputId": "766a2339-f16c-4f39-f28d-6299ed0a4234"
      },
      "outputs": [
        {
          "name": "stdout",
          "output_type": "stream",
          "text": [
            "[0]\n"
          ]
        }
      ],
      "source": [
        "print(predictor)"
      ]
    },
    {
      "cell_type": "code",
      "execution_count": null,
      "metadata": {
        "colab": {
          "base_uri": "https://localhost:8080/"
        },
        "id": "dmfgdo7Cg3Xw",
        "outputId": "23e4c560-c2de-4f4f-f98f-649de34b76b6"
      },
      "outputs": [
        {
          "name": "stdout",
          "output_type": "stream",
          "text": [
            "No Chances of Diabetes\n"
          ]
        }
      ],
      "source": [
        "if(predictor==0):\n",
        "  print('No Chances of Diabetes')\n",
        "else:\n",
        "  print('Patient is suffering from Diabetes')"
      ]
    },
    {
      "cell_type": "markdown",
      "metadata": {
        "id": "GpJkpTIaCmxZ"
      },
      "source": [
        "# PICKLE"
      ]
    },
    {
      "cell_type": "markdown",
      "metadata": {
        "id": "HEPQkNVqCvtW"
      },
      "source": [
        "Pickling the Model for Deployment"
      ]
    },
    {
      "cell_type": "code",
      "execution_count": null,
      "metadata": {
        "colab": {
          "base_uri": "https://localhost:8080/"
        },
        "id": "eXfRjMcwCvDe",
        "outputId": "c9ec8409-de02-4d5b-ea2e-27dc95010f03"
      },
      "outputs": [
        {
          "name": "stdout",
          "output_type": "stream",
          "text": [
            "No chance\n"
          ]
        }
      ],
      "source": [
        "import pickle \n",
        "pickle.dump(model,open('modelpkl.pkl','wb'))\n",
        "pickle.dump(scaler,open('scalerpkl.pkl','wb'))\n",
        "pickled_model=pickle.load(open('modelpkl.pkl','rb'))\n",
        "if pickled_model.predict(prediction_output) ==0:\n",
        "  print('No chance')\n",
        "else :\n",
        "  print('Yes')"
      ]
    },
    {
      "cell_type": "code",
      "execution_count": null,
      "metadata": {
        "id": "JJ1LncTkD_-7"
      },
      "outputs": [],
      "source": []
    }
  ],
  "metadata": {
    "colab": {
      "provenance": []
    },
    "kernelspec": {
      "display_name": "Python 3",
      "name": "python3"
    },
    "language_info": {
      "codemirror_mode": {
        "name": "ipython",
        "version": 3
      },
      "file_extension": ".py",
      "mimetype": "text/x-python",
      "name": "python",
      "nbconvert_exporter": "python",
      "pygments_lexer": "ipython3",
      "version": "3.9.0"
    }
  },
  "nbformat": 4,
  "nbformat_minor": 0
}
